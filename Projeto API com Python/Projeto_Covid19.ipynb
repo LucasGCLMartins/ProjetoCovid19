{
 "cells": [
  {
   "cell_type": "code",
   "execution_count": 1,
   "id": "fe63a716",
   "metadata": {},
   "outputs": [],
   "source": [
    "import requests as r"
   ]
  },
  {
   "cell_type": "code",
   "execution_count": 2,
   "id": "a49c193e",
   "metadata": {},
   "outputs": [],
   "source": [
    "url = 'https://api.covid19api.com/dayone/country/brazil'\n",
    "resp = r.get(url)"
   ]
  },
  {
   "cell_type": "code",
   "execution_count": 4,
   "id": "0ffb2f09",
   "metadata": {
    "scrolled": true
   },
   "outputs": [
    {
     "data": {
      "text/plain": [
       "200"
      ]
     },
     "execution_count": 4,
     "metadata": {},
     "output_type": "execute_result"
    }
   ],
   "source": [
    "resp.status_code"
   ]
  },
  {
   "cell_type": "code",
   "execution_count": 6,
   "id": "70173e2e",
   "metadata": {},
   "outputs": [],
   "source": [
    "raw_data = resp.json()"
   ]
  },
  {
   "cell_type": "code",
   "execution_count": 7,
   "id": "b731f593",
   "metadata": {},
   "outputs": [
    {
     "data": {
      "text/plain": [
       "{'ID': '63aa488e-b4a2-4fcd-ae15-07c1ff219903',\n",
       " 'Country': 'Brazil',\n",
       " 'CountryCode': 'BR',\n",
       " 'Province': '',\n",
       " 'City': '',\n",
       " 'CityCode': '',\n",
       " 'Lat': '-14.24',\n",
       " 'Lon': '-51.93',\n",
       " 'Confirmed': 1,\n",
       " 'Deaths': 0,\n",
       " 'Recovered': 0,\n",
       " 'Active': 1,\n",
       " 'Date': '2020-02-26T00:00:00Z'}"
      ]
     },
     "execution_count": 7,
     "metadata": {},
     "output_type": "execute_result"
    }
   ],
   "source": [
    "raw_data[0]"
   ]
  },
  {
   "cell_type": "code",
   "execution_count": null,
   "id": "fd9666cb",
   "metadata": {},
   "outputs": [],
   "source": []
  }
 ],
 "metadata": {
  "kernelspec": {
   "display_name": "Python 3",
   "language": "python",
   "name": "python3"
  },
  "language_info": {
   "codemirror_mode": {
    "name": "ipython",
    "version": 3
   },
   "file_extension": ".py",
   "mimetype": "text/x-python",
   "name": "python",
   "nbconvert_exporter": "python",
   "pygments_lexer": "ipython3",
   "version": "3.8.8"
  }
 },
 "nbformat": 4,
 "nbformat_minor": 5
}
